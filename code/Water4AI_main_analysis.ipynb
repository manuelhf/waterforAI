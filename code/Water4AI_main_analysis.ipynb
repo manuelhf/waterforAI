import numpy as np
import matplotlib.pyplot as plt

# Set seed for reproducibility
np.random.seed(42)

# Define parameters
years = np.arange(2025, 2051)
num_samples = 10000

# Initial values
e_current_mean = 1e6  # kWh/day
e_current_std = 1e5

rho_s1_current = 1.8  # litres/kWh
theta_current = 1.2
rho_s2_current = 1.5
embodied_water_annual_current = 1e8  # litres/year
T0 = 365  # days/year

# Improvement rates
rho_s1_improvement = 0.005
theta_improvement = 0.005
rho_s2_improvement = 0.01
embodied_improvement = 0.01

# Growth rates for scenarios
scenarios_growth = {
    'Business-as-usual': 0.10,
    'Moderate intervention': 0.05,
    'Sustainable transformation': 0.00
}

# Prepare to store results
posterior_means = {scenario: [] for scenario in scenarios_growth}
posterior_lowers = {scenario: [] for scenario in scenarios_growth}
posterior_uppers = {scenario: [] for scenario in scenarios_growth}

# Monte Carlo simulations for each year and scenario
for scenario, growth_rate in scenarios_growth.items():
    for year in years:
        t = year - 2025

        # Sample electricity use
        e_samples = np.random.normal(e_current_mean, e_current_std, num_samples)
        e_future = e_samples * ((1 + growth_rate) ** t)

        # Efficiency parameters
        rho_s1_t = rho_s1_current * ((1 - rho_s1_improvement) ** t)
        theta_t = theta_current * ((1 - theta_improvement) ** t)
        rho_s2_t = rho_s2_current * ((1 - rho_s2_improvement) ** t)
        embodied_annual_t = embodied_water_annual_current * ((1 - embodied_improvement) ** t)
        W_embodied_t = (embodied_annual_t / T0) / 1e9  # billion litres/day

        # Total water use calculation
        W_onsite = e_future * rho_s1_t / 1e9
        W_offsite = e_future * theta_t * rho_s2_t / 1e9
        W_total = W_onsite + W_offsite + W_embodied_t

        # Store stats
        posterior_means[scenario].append(np.mean(W_total))
        lower, upper = np.percentile(W_total, [5, 95])
        posterior_lowers[scenario].append(lower)
        posterior_uppers[scenario].append(upper)

# Plotting
plt.figure(figsize=(10, 6))
for scenario, color in zip(scenarios_growth.keys(), ['tab:red', 'tab:orange', 'tab:green']):
    plt.plot(years, posterior_means[scenario], label=scenario, color=color)
    plt.fill_between(years, posterior_lowers[scenario], posterior_uppers[scenario], color=color, alpha=0.2)

plt.xlabel("Year", fontsize=13)
plt.ylabel("Water consumption (billion litres/day)", fontsize=13)
plt.legend(fontsize=11)
plt.grid(True, linestyle='--', alpha=0.5)
plt.xticks(fontsize=11)
plt.yticks(fontsize=11)
plt.tight_layout()

# Save and show the figure
plt.savefig("/mnt/data/posterior_forecast_all_scenarios.png", dpi=300)
plt.show()
